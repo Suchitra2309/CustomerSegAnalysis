{
 "cells": [
  {
   "cell_type": "code",
   "execution_count": 1,
   "id": "a61d4d2c",
   "metadata": {},
   "outputs": [
    {
     "data": {
      "text/html": [
       "<div>\n",
       "<style scoped>\n",
       "    .dataframe tbody tr th:only-of-type {\n",
       "        vertical-align: middle;\n",
       "    }\n",
       "\n",
       "    .dataframe tbody tr th {\n",
       "        vertical-align: top;\n",
       "    }\n",
       "\n",
       "    .dataframe thead th {\n",
       "        text-align: right;\n",
       "    }\n",
       "</style>\n",
       "<table border=\"1\" class=\"dataframe\">\n",
       "  <thead>\n",
       "    <tr style=\"text-align: right;\">\n",
       "      <th></th>\n",
       "      <th>CustomerID</th>\n",
       "      <th>Gender</th>\n",
       "      <th>Age</th>\n",
       "      <th>Annual Income (k$)</th>\n",
       "      <th>Spending Score (1-100)</th>\n",
       "    </tr>\n",
       "  </thead>\n",
       "  <tbody>\n",
       "    <tr>\n",
       "      <th>0</th>\n",
       "      <td>1</td>\n",
       "      <td>Male</td>\n",
       "      <td>19</td>\n",
       "      <td>15</td>\n",
       "      <td>39</td>\n",
       "    </tr>\n",
       "    <tr>\n",
       "      <th>1</th>\n",
       "      <td>2</td>\n",
       "      <td>Male</td>\n",
       "      <td>21</td>\n",
       "      <td>15</td>\n",
       "      <td>81</td>\n",
       "    </tr>\n",
       "    <tr>\n",
       "      <th>2</th>\n",
       "      <td>3</td>\n",
       "      <td>Female</td>\n",
       "      <td>20</td>\n",
       "      <td>16</td>\n",
       "      <td>6</td>\n",
       "    </tr>\n",
       "    <tr>\n",
       "      <th>3</th>\n",
       "      <td>4</td>\n",
       "      <td>Female</td>\n",
       "      <td>23</td>\n",
       "      <td>16</td>\n",
       "      <td>77</td>\n",
       "    </tr>\n",
       "    <tr>\n",
       "      <th>4</th>\n",
       "      <td>5</td>\n",
       "      <td>Female</td>\n",
       "      <td>31</td>\n",
       "      <td>17</td>\n",
       "      <td>40</td>\n",
       "    </tr>\n",
       "  </tbody>\n",
       "</table>\n",
       "</div>"
      ],
      "text/plain": [
       "   CustomerID  Gender  Age  Annual Income (k$)  Spending Score (1-100)\n",
       "0           1    Male   19                  15                      39\n",
       "1           2    Male   21                  15                      81\n",
       "2           3  Female   20                  16                       6\n",
       "3           4  Female   23                  16                      77\n",
       "4           5  Female   31                  17                      40"
      ]
     },
     "execution_count": 1,
     "metadata": {},
     "output_type": "execute_result"
    }
   ],
   "source": [
    "import numpy as np\n",
    "import pandas as pd\n",
    "df=pd.read_csv('Mall_Customers.csv')\n",
    "df.head()  # display first 5 rows"
   ]
  },
  {
   "cell_type": "code",
   "execution_count": 2,
   "id": "b5e5b324",
   "metadata": {},
   "outputs": [
    {
     "name": "stdout",
     "output_type": "stream",
     "text": [
      "<class 'pandas.core.frame.DataFrame'>\n",
      "RangeIndex: 200 entries, 0 to 199\n",
      "Data columns (total 5 columns):\n",
      " #   Column                  Non-Null Count  Dtype \n",
      "---  ------                  --------------  ----- \n",
      " 0   CustomerID              200 non-null    int64 \n",
      " 1   Gender                  200 non-null    object\n",
      " 2   Age                     200 non-null    int64 \n",
      " 3   Annual Income (k$)      200 non-null    int64 \n",
      " 4   Spending Score (1-100)  200 non-null    int64 \n",
      "dtypes: int64(4), object(1)\n",
      "memory usage: 7.9+ KB\n"
     ]
    }
   ],
   "source": [
    "df.info() # provide information of all columns"
   ]
  },
  {
   "cell_type": "code",
   "execution_count": 3,
   "id": "9b36d793",
   "metadata": {},
   "outputs": [
    {
     "data": {
      "text/html": [
       "<div>\n",
       "<style scoped>\n",
       "    .dataframe tbody tr th:only-of-type {\n",
       "        vertical-align: middle;\n",
       "    }\n",
       "\n",
       "    .dataframe tbody tr th {\n",
       "        vertical-align: top;\n",
       "    }\n",
       "\n",
       "    .dataframe thead th {\n",
       "        text-align: right;\n",
       "    }\n",
       "</style>\n",
       "<table border=\"1\" class=\"dataframe\">\n",
       "  <thead>\n",
       "    <tr style=\"text-align: right;\">\n",
       "      <th></th>\n",
       "      <th>CustomerID</th>\n",
       "      <th>Age</th>\n",
       "      <th>Annual Income (k$)</th>\n",
       "      <th>Spending Score (1-100)</th>\n",
       "    </tr>\n",
       "  </thead>\n",
       "  <tbody>\n",
       "    <tr>\n",
       "      <th>count</th>\n",
       "      <td>200.000000</td>\n",
       "      <td>200.000000</td>\n",
       "      <td>200.000000</td>\n",
       "      <td>200.000000</td>\n",
       "    </tr>\n",
       "    <tr>\n",
       "      <th>mean</th>\n",
       "      <td>100.500000</td>\n",
       "      <td>38.850000</td>\n",
       "      <td>60.560000</td>\n",
       "      <td>50.200000</td>\n",
       "    </tr>\n",
       "    <tr>\n",
       "      <th>std</th>\n",
       "      <td>57.879185</td>\n",
       "      <td>13.969007</td>\n",
       "      <td>26.264721</td>\n",
       "      <td>25.823522</td>\n",
       "    </tr>\n",
       "    <tr>\n",
       "      <th>min</th>\n",
       "      <td>1.000000</td>\n",
       "      <td>18.000000</td>\n",
       "      <td>15.000000</td>\n",
       "      <td>1.000000</td>\n",
       "    </tr>\n",
       "    <tr>\n",
       "      <th>25%</th>\n",
       "      <td>50.750000</td>\n",
       "      <td>28.750000</td>\n",
       "      <td>41.500000</td>\n",
       "      <td>34.750000</td>\n",
       "    </tr>\n",
       "    <tr>\n",
       "      <th>50%</th>\n",
       "      <td>100.500000</td>\n",
       "      <td>36.000000</td>\n",
       "      <td>61.500000</td>\n",
       "      <td>50.000000</td>\n",
       "    </tr>\n",
       "    <tr>\n",
       "      <th>75%</th>\n",
       "      <td>150.250000</td>\n",
       "      <td>49.000000</td>\n",
       "      <td>78.000000</td>\n",
       "      <td>73.000000</td>\n",
       "    </tr>\n",
       "    <tr>\n",
       "      <th>max</th>\n",
       "      <td>200.000000</td>\n",
       "      <td>70.000000</td>\n",
       "      <td>137.000000</td>\n",
       "      <td>99.000000</td>\n",
       "    </tr>\n",
       "  </tbody>\n",
       "</table>\n",
       "</div>"
      ],
      "text/plain": [
       "       CustomerID         Age  Annual Income (k$)  Spending Score (1-100)\n",
       "count  200.000000  200.000000          200.000000              200.000000\n",
       "mean   100.500000   38.850000           60.560000               50.200000\n",
       "std     57.879185   13.969007           26.264721               25.823522\n",
       "min      1.000000   18.000000           15.000000                1.000000\n",
       "25%     50.750000   28.750000           41.500000               34.750000\n",
       "50%    100.500000   36.000000           61.500000               50.000000\n",
       "75%    150.250000   49.000000           78.000000               73.000000\n",
       "max    200.000000   70.000000          137.000000               99.000000"
      ]
     },
     "execution_count": 3,
     "metadata": {},
     "output_type": "execute_result"
    }
   ],
   "source": [
    "df.describe() # provide statistical information of all columns"
   ]
  },
  {
   "cell_type": "code",
   "execution_count": 4,
   "id": "a0ec750b",
   "metadata": {},
   "outputs": [
    {
     "data": {
      "text/plain": [
       "(200, 5)"
      ]
     },
     "execution_count": 4,
     "metadata": {},
     "output_type": "execute_result"
    }
   ],
   "source": [
    "df.shape # check the shape of the dataset"
   ]
  },
  {
   "cell_type": "code",
   "execution_count": 5,
   "id": "c3cf7745",
   "metadata": {
    "scrolled": true
   },
   "outputs": [
    {
     "data": {
      "text/plain": [
       "CustomerID                0\n",
       "Gender                    0\n",
       "Age                       0\n",
       "Annual Income (k$)        0\n",
       "Spending Score (1-100)    0\n",
       "dtype: int64"
      ]
     },
     "execution_count": 5,
     "metadata": {},
     "output_type": "execute_result"
    }
   ],
   "source": [
    "df.isnull().sum() # checking the null values"
   ]
  },
  {
   "cell_type": "code",
   "execution_count": 6,
   "id": "da66ab50",
   "metadata": {},
   "outputs": [],
   "source": [
    "df.drop(['CustomerID'],axis=1, inplace=True) # drop the CustomerId column"
   ]
  },
  {
   "cell_type": "code",
   "execution_count": 7,
   "id": "03a8a048",
   "metadata": {},
   "outputs": [
    {
     "data": {
      "text/html": [
       "<div>\n",
       "<style scoped>\n",
       "    .dataframe tbody tr th:only-of-type {\n",
       "        vertical-align: middle;\n",
       "    }\n",
       "\n",
       "    .dataframe tbody tr th {\n",
       "        vertical-align: top;\n",
       "    }\n",
       "\n",
       "    .dataframe thead th {\n",
       "        text-align: right;\n",
       "    }\n",
       "</style>\n",
       "<table border=\"1\" class=\"dataframe\">\n",
       "  <thead>\n",
       "    <tr style=\"text-align: right;\">\n",
       "      <th></th>\n",
       "      <th>Gender</th>\n",
       "      <th>Age</th>\n",
       "      <th>Annual Income (k$)</th>\n",
       "      <th>Spending Score (1-100)</th>\n",
       "    </tr>\n",
       "  </thead>\n",
       "  <tbody>\n",
       "    <tr>\n",
       "      <th>0</th>\n",
       "      <td>Male</td>\n",
       "      <td>19</td>\n",
       "      <td>15</td>\n",
       "      <td>39</td>\n",
       "    </tr>\n",
       "    <tr>\n",
       "      <th>1</th>\n",
       "      <td>Male</td>\n",
       "      <td>21</td>\n",
       "      <td>15</td>\n",
       "      <td>81</td>\n",
       "    </tr>\n",
       "    <tr>\n",
       "      <th>2</th>\n",
       "      <td>Female</td>\n",
       "      <td>20</td>\n",
       "      <td>16</td>\n",
       "      <td>6</td>\n",
       "    </tr>\n",
       "    <tr>\n",
       "      <th>3</th>\n",
       "      <td>Female</td>\n",
       "      <td>23</td>\n",
       "      <td>16</td>\n",
       "      <td>77</td>\n",
       "    </tr>\n",
       "    <tr>\n",
       "      <th>4</th>\n",
       "      <td>Female</td>\n",
       "      <td>31</td>\n",
       "      <td>17</td>\n",
       "      <td>40</td>\n",
       "    </tr>\n",
       "  </tbody>\n",
       "</table>\n",
       "</div>"
      ],
      "text/plain": [
       "   Gender  Age  Annual Income (k$)  Spending Score (1-100)\n",
       "0    Male   19                  15                      39\n",
       "1    Male   21                  15                      81\n",
       "2  Female   20                  16                       6\n",
       "3  Female   23                  16                      77\n",
       "4  Female   31                  17                      40"
      ]
     },
     "execution_count": 7,
     "metadata": {},
     "output_type": "execute_result"
    }
   ],
   "source": [
    "df.head()"
   ]
  },
  {
   "cell_type": "markdown",
   "id": "4c04ab6e",
   "metadata": {},
   "source": [
    "### Exploratory Data Analysis"
   ]
  },
  {
   "cell_type": "code",
   "execution_count": 8,
   "id": "badc3469",
   "metadata": {},
   "outputs": [
    {
     "data": {
      "image/png": "[encoded data removed]",
      "text/plain": [
       "<Figure size 432x288 with 1 Axes>"
      ]
     },
     "metadata": {
      "needs_background": "light"
     },
     "output_type": "display_data"
    }
   ],
   "source": [
    "import seaborn as sns\n",
    "import matplotlib.pyplot as plt\n",
    "ax=sns.countplot(x='Gender',order=df['Gender'].value_counts().index,data=df)\n",
    "for p in ax.patches:\n",
    "    ax.annotate('{:.0f}'.format(p.get_height()), (p.get_x()+0.25, p.get_height()+0.01))\n",
    "plt.show()"
   ]
  },
  {
   "cell_type": "markdown",
   "id": "b0242e19",
   "metadata": {},
   "source": [
    "###### Here female customers are more than male customers"
   ]
  },
  {
   "cell_type": "code",
   "execution_count": 9,
   "id": "025375d8",
   "metadata": {},
   "outputs": [
    {
     "name": "stderr",
     "output_type": "stream",
     "text": [
      "C:\\Users\\pc\\anaconda3\\lib\\site-packages\\seaborn\\distributions.py:2557: FutureWarning: `distplot` is a deprecated function and will be removed in a future version. Please adapt your code to use either `displot` (a figure-level function with similar flexibility) or `histplot` (an axes-level function for histograms).\n",
      "  warnings.warn(msg, FutureWarning)\n"
     ]
    },
    {
     "data": {
      "text/plain": [
       "<AxesSubplot:xlabel='Age', ylabel='Density'>"
      ]
     },
     "execution_count": 9,
     "metadata": {},
     "output_type": "execute_result"
    },
    {
     "data": {
      "image/png": "[encoded data removed]",
      "text/plain": [
       "<Figure size 432x288 with 1 Axes>"
      ]
     },
     "metadata": {
      "needs_background": "light"
     },
     "output_type": "display_data"
    }
   ],
   "source": [
    "sns.distplot(df['Age']) # distribution of age"
   ]
  },
  {
   "cell_type": "code",
   "execution_count": 10,
   "id": "8fbb0c22",
   "metadata": {},
   "outputs": [
    {
     "name": "stderr",
     "output_type": "stream",
     "text": [
      "C:\\Users\\pc\\anaconda3\\lib\\site-packages\\seaborn\\distributions.py:2557: FutureWarning: `distplot` is a deprecated function and will be removed in a future version. Please adapt your code to use either `displot` (a figure-level function with similar flexibility) or `histplot` (an axes-level function for histograms).\n",
      "  warnings.warn(msg, FutureWarning)\n"
     ]
    },
    {
     "data": {
      "text/plain": [
       "<AxesSubplot:xlabel='Annual Income (k$)', ylabel='Density'>"
      ]
     },
     "execution_count": 10,
     "metadata": {},
     "output_type": "execute_result"
    },
    {
     "data": {
      "image/png": "[encoded data removed]",
      "text/plain": [
       "<Figure size 432x288 with 1 Axes>"
      ]
     },
     "metadata": {
      "needs_background": "light"
     },
     "output_type": "display_data"
    }
   ],
   "source": [
    "sns.distplot(df['Annual Income (k$)']) # distribution of annual income"
   ]
  },
  {
   "cell_type": "code",
   "execution_count": 11,
   "id": "7eb62678",
   "metadata": {},
   "outputs": [
    {
     "name": "stderr",
     "output_type": "stream",
     "text": [
      "C:\\Users\\pc\\anaconda3\\lib\\site-packages\\seaborn\\distributions.py:2557: FutureWarning: `distplot` is a deprecated function and will be removed in a future version. Please adapt your code to use either `displot` (a figure-level function with similar flexibility) or `histplot` (an axes-level function for histograms).\n",
      "  warnings.warn(msg, FutureWarning)\n"
     ]
    },
    {
     "data": {
      "text/plain": [
       "<AxesSubplot:xlabel='Spending Score (1-100)', ylabel='Density'>"
      ]
     },
     "execution_count": 11,
     "metadata": {},
     "output_type": "execute_result"
    },
    {
     "data": {
      "image/png": "[encoded data removed]",
      "text/plain": [
       "<Figure size 432x288 with 1 Axes>"
      ]
     },
     "metadata": {
      "needs_background": "light"
     },
     "output_type": "display_data"
    }
   ],
   "source": [
    "sns.distplot(df['Spending Score (1-100)']) # distribution of spending score"
   ]
  },
  {
   "cell_type": "code",
   "execution_count": 12,
   "id": "02ba1158",
   "metadata": {},
   "outputs": [
    {
     "name": "stderr",
     "output_type": "stream",
     "text": [
      "C:\\Users\\pc\\anaconda3\\lib\\site-packages\\seaborn\\_decorators.py:36: FutureWarning: Pass the following variable as a keyword arg: x. From version 0.12, the only valid positional argument will be `data`, and passing other arguments without an explicit keyword will result in an error or misinterpretation.\n",
      "  warnings.warn(\n"
     ]
    },
    {
     "data": {
      "text/plain": [
       "<AxesSubplot:xlabel='Age'>"
      ]
     },
     "execution_count": 12,
     "metadata": {},
     "output_type": "execute_result"
    },
    {
     "data": {
      "image/png": "[encoded data removed]",
      "text/plain": [
       "<Figure size 432x288 with 1 Axes>"
      ]
     },
     "metadata": {
      "needs_background": "light"
     },
     "output_type": "display_data"
    }
   ],
   "source": [
    "sns.boxplot(df['Age'])"
   ]
  },
  {
   "cell_type": "code",
   "execution_count": 13,
   "id": "04670cb4",
   "metadata": {},
   "outputs": [
    {
     "name": "stderr",
     "output_type": "stream",
     "text": [
      "C:\\Users\\pc\\anaconda3\\lib\\site-packages\\seaborn\\_decorators.py:36: FutureWarning: Pass the following variable as a keyword arg: x. From version 0.12, the only valid positional argument will be `data`, and passing other arguments without an explicit keyword will result in an error or misinterpretation.\n",
      "  warnings.warn(\n"
     ]
    },
    {
     "data": {
      "text/plain": [
       "<AxesSubplot:xlabel='Annual Income (k$)'>"
      ]
     },
     "execution_count": 13,
     "metadata": {},
     "output_type": "execute_result"
    },
    {
     "data": {
      "image/png": "[encoded data removed]",
      "text/plain": [
       "<Figure size 432x288 with 1 Axes>"
      ]
     },
     "metadata": {
      "needs_background": "light"
     },
     "output_type": "display_data"
    }
   ],
   "source": [
    "sns.boxplot(df['Annual Income (k$)'])"
   ]
  },
  {
   "cell_type": "code",
   "execution_count": 14,
   "id": "b0f07c0d",
   "metadata": {},
   "outputs": [
    {
     "name": "stderr",
     "output_type": "stream",
     "text": [
      "C:\\Users\\pc\\anaconda3\\lib\\site-packages\\seaborn\\_decorators.py:36: FutureWarning: Pass the following variable as a keyword arg: x. From version 0.12, the only valid positional argument will be `data`, and passing other arguments without an explicit keyword will result in an error or misinterpretation.\n",
      "  warnings.warn(\n"
     ]
    },
    {
     "data": {
      "text/plain": [
       "<AxesSubplot:xlabel='Spending Score (1-100)'>"
      ]
     },
     "execution_count": 14,
     "metadata": {},
     "output_type": "execute_result"
    },
    {
     "data": {
      "image/png": "[encoded data removed]",
      "text/plain": [
       "<Figure size 432x288 with 1 Axes>"
      ]
     },
     "metadata": {
      "needs_background": "light"
     },
     "output_type": "display_data"
    }
   ],
   "source": [
    "sns.boxplot(df['Spending Score (1-100)'])"
   ]
  },
  {
   "cell_type": "markdown",
   "id": "8df8a085",
   "metadata": {},
   "source": [
    "##### There are few outliers are present in the annual income column."
   ]
  },
  {
   "cell_type": "code",
   "execution_count": 15,
   "id": "cb89e191",
   "metadata": {},
   "outputs": [
    {
     "data": {
      "text/html": [
       "<div>\n",
       "<style scoped>\n",
       "    .dataframe tbody tr th:only-of-type {\n",
       "        vertical-align: middle;\n",
       "    }\n",
       "\n",
       "    .dataframe tbody tr th {\n",
       "        vertical-align: top;\n",
       "    }\n",
       "\n",
       "    .dataframe thead th {\n",
       "        text-align: right;\n",
       "    }\n",
       "</style>\n",
       "<table border=\"1\" class=\"dataframe\">\n",
       "  <thead>\n",
       "    <tr style=\"text-align: right;\">\n",
       "      <th></th>\n",
       "      <th>Annual Income (k$)</th>\n",
       "      <th>Spending Score (1-100)</th>\n",
       "    </tr>\n",
       "  </thead>\n",
       "  <tbody>\n",
       "    <tr>\n",
       "      <th>0</th>\n",
       "      <td>15</td>\n",
       "      <td>39</td>\n",
       "    </tr>\n",
       "    <tr>\n",
       "      <th>1</th>\n",
       "      <td>15</td>\n",
       "      <td>81</td>\n",
       "    </tr>\n",
       "    <tr>\n",
       "      <th>2</th>\n",
       "      <td>16</td>\n",
       "      <td>6</td>\n",
       "    </tr>\n",
       "    <tr>\n",
       "      <th>3</th>\n",
       "      <td>16</td>\n",
       "      <td>77</td>\n",
       "    </tr>\n",
       "    <tr>\n",
       "      <th>4</th>\n",
       "      <td>17</td>\n",
       "      <td>40</td>\n",
       "    </tr>\n",
       "    <tr>\n",
       "      <th>...</th>\n",
       "      <td>...</td>\n",
       "      <td>...</td>\n",
       "    </tr>\n",
       "    <tr>\n",
       "      <th>195</th>\n",
       "      <td>120</td>\n",
       "      <td>79</td>\n",
       "    </tr>\n",
       "    <tr>\n",
       "      <th>196</th>\n",
       "      <td>126</td>\n",
       "      <td>28</td>\n",
       "    </tr>\n",
       "    <tr>\n",
       "      <th>197</th>\n",
       "      <td>126</td>\n",
       "      <td>74</td>\n",
       "    </tr>\n",
       "    <tr>\n",
       "      <th>198</th>\n",
       "      <td>137</td>\n",
       "      <td>18</td>\n",
       "    </tr>\n",
       "    <tr>\n",
       "      <th>199</th>\n",
       "      <td>137</td>\n",
       "      <td>83</td>\n",
       "    </tr>\n",
       "  </tbody>\n",
       "</table>\n",
       "<p>200 rows × 2 columns</p>\n",
       "</div>"
      ],
      "text/plain": [
       "     Annual Income (k$)  Spending Score (1-100)\n",
       "0                    15                      39\n",
       "1                    15                      81\n",
       "2                    16                       6\n",
       "3                    16                      77\n",
       "4                    17                      40\n",
       "..                  ...                     ...\n",
       "195                 120                      79\n",
       "196                 126                      28\n",
       "197                 126                      74\n",
       "198                 137                      18\n",
       "199                 137                      83\n",
       "\n",
       "[200 rows x 2 columns]"
      ]
     },
     "execution_count": 15,
     "metadata": {},
     "output_type": "execute_result"
    }
   ],
   "source": [
    "x=df[['Annual Income (k$)','Spending Score (1-100)']]\n",
    "x"
   ]
  },
  {
   "cell_type": "code",
   "execution_count": 16,
   "id": "ec6c134e",
   "metadata": {},
   "outputs": [
    {
     "name": "stdout",
     "output_type": "stream",
     "text": [
      "[[-1.73899919 -0.43480148]\n",
      " [-1.73899919  1.19570407]\n",
      " [-1.70082976 -1.71591298]\n",
      " [-1.70082976  1.04041783]\n",
      " [-1.66266033 -0.39597992]\n",
      " [-1.66266033  1.00159627]\n",
      " [-1.62449091 -1.71591298]\n",
      " [-1.62449091  1.70038436]\n",
      " [-1.58632148 -1.83237767]\n",
      " [-1.58632148  0.84631002]\n",
      " [-1.58632148 -1.4053405 ]\n",
      " [-1.58632148  1.89449216]\n",
      " [-1.54815205 -1.36651894]\n",
      " [-1.54815205  1.04041783]\n",
      " [-1.54815205 -1.44416206]\n",
      " [-1.54815205  1.11806095]\n",
      " [-1.50998262 -0.59008772]\n",
      " [-1.50998262  0.61338066]\n",
      " [-1.43364376 -0.82301709]\n",
      " [-1.43364376  1.8556706 ]\n",
      " [-1.39547433 -0.59008772]\n",
      " [-1.39547433  0.88513158]\n",
      " [-1.3573049  -1.75473454]\n",
      " [-1.3573049   0.88513158]\n",
      " [-1.24279661 -1.4053405 ]\n",
      " [-1.24279661  1.23452563]\n",
      " [-1.24279661 -0.7065524 ]\n",
      " [-1.24279661  0.41927286]\n",
      " [-1.20462718 -0.74537397]\n",
      " [-1.20462718  1.42863343]\n",
      " [-1.16645776 -1.7935561 ]\n",
      " [-1.16645776  0.88513158]\n",
      " [-1.05194947 -1.7935561 ]\n",
      " [-1.05194947  1.62274124]\n",
      " [-1.05194947 -1.4053405 ]\n",
      " [-1.05194947  1.19570407]\n",
      " [-1.01378004 -1.28887582]\n",
      " [-1.01378004  0.88513158]\n",
      " [-0.89927175 -0.93948177]\n",
      " [-0.89927175  0.96277471]\n",
      " [-0.86110232 -0.59008772]\n",
      " [-0.86110232  1.62274124]\n",
      " [-0.82293289 -0.55126616]\n",
      " [-0.82293289  0.41927286]\n",
      " [-0.82293289 -0.86183865]\n",
      " [-0.82293289  0.5745591 ]\n",
      " [-0.78476346  0.18634349]\n",
      " [-0.78476346 -0.12422899]\n",
      " [-0.78476346 -0.3183368 ]\n",
      " [-0.78476346 -0.3183368 ]\n",
      " [-0.70842461  0.06987881]\n",
      " [-0.70842461  0.38045129]\n",
      " [-0.67025518  0.14752193]\n",
      " [-0.67025518  0.38045129]\n",
      " [-0.67025518 -0.20187212]\n",
      " [-0.67025518 -0.35715836]\n",
      " [-0.63208575 -0.00776431]\n",
      " [-0.63208575 -0.16305055]\n",
      " [-0.55574689  0.03105725]\n",
      " [-0.55574689 -0.16305055]\n",
      " [-0.55574689  0.22516505]\n",
      " [-0.55574689  0.18634349]\n",
      " [-0.51757746  0.06987881]\n",
      " [-0.51757746  0.34162973]\n",
      " [-0.47940803  0.03105725]\n",
      " [-0.47940803  0.34162973]\n",
      " [-0.47940803 -0.00776431]\n",
      " [-0.47940803 -0.08540743]\n",
      " [-0.47940803  0.34162973]\n",
      " [-0.47940803 -0.12422899]\n",
      " [-0.4412386   0.18634349]\n",
      " [-0.4412386  -0.3183368 ]\n",
      " [-0.40306917 -0.04658587]\n",
      " [-0.40306917  0.22516505]\n",
      " [-0.25039146 -0.12422899]\n",
      " [-0.25039146  0.14752193]\n",
      " [-0.25039146  0.10870037]\n",
      " [-0.25039146 -0.08540743]\n",
      " [-0.25039146  0.06987881]\n",
      " [-0.25039146 -0.3183368 ]\n",
      " [-0.25039146  0.03105725]\n",
      " [-0.25039146  0.18634349]\n",
      " [-0.25039146 -0.35715836]\n",
      " [-0.25039146 -0.24069368]\n",
      " [-0.25039146  0.26398661]\n",
      " [-0.25039146 -0.16305055]\n",
      " [-0.13588317  0.30280817]\n",
      " [-0.13588317  0.18634349]\n",
      " [-0.09771374  0.38045129]\n",
      " [-0.09771374 -0.16305055]\n",
      " [-0.05954431  0.18634349]\n",
      " [-0.05954431 -0.35715836]\n",
      " [-0.02137488 -0.04658587]\n",
      " [-0.02137488 -0.39597992]\n",
      " [-0.02137488 -0.3183368 ]\n",
      " [-0.02137488  0.06987881]\n",
      " [-0.02137488 -0.12422899]\n",
      " [-0.02137488 -0.00776431]\n",
      " [ 0.01679455 -0.3183368 ]\n",
      " [ 0.01679455 -0.04658587]\n",
      " [ 0.05496398 -0.35715836]\n",
      " [ 0.05496398 -0.08540743]\n",
      " [ 0.05496398  0.34162973]\n",
      " [ 0.05496398  0.18634349]\n",
      " [ 0.05496398  0.22516505]\n",
      " [ 0.05496398 -0.3183368 ]\n",
      " [ 0.09313341 -0.00776431]\n",
      " [ 0.09313341 -0.16305055]\n",
      " [ 0.09313341 -0.27951524]\n",
      " [ 0.09313341 -0.08540743]\n",
      " [ 0.09313341  0.06987881]\n",
      " [ 0.09313341  0.14752193]\n",
      " [ 0.13130284 -0.3183368 ]\n",
      " [ 0.13130284 -0.16305055]\n",
      " [ 0.16947227 -0.08540743]\n",
      " [ 0.16947227 -0.00776431]\n",
      " [ 0.16947227 -0.27951524]\n",
      " [ 0.16947227  0.34162973]\n",
      " [ 0.24581112 -0.27951524]\n",
      " [ 0.24581112  0.26398661]\n",
      " [ 0.24581112  0.22516505]\n",
      " [ 0.24581112 -0.39597992]\n",
      " [ 0.32214998  0.30280817]\n",
      " [ 0.32214998  1.58391968]\n",
      " [ 0.36031941 -0.82301709]\n",
      " [ 0.36031941  1.04041783]\n",
      " [ 0.39848884 -0.59008772]\n",
      " [ 0.39848884  1.73920592]\n",
      " [ 0.39848884 -1.52180518]\n",
      " [ 0.39848884  0.96277471]\n",
      " [ 0.39848884 -1.5994483 ]\n",
      " [ 0.39848884  0.96277471]\n",
      " [ 0.43665827 -0.62890928]\n",
      " [ 0.43665827  0.80748846]\n",
      " [ 0.4748277  -1.75473454]\n",
      " [ 0.4748277   1.46745499]\n",
      " [ 0.4748277  -1.67709142]\n",
      " [ 0.4748277   0.88513158]\n",
      " [ 0.51299713 -1.56062674]\n",
      " [ 0.51299713  0.84631002]\n",
      " [ 0.55116656 -1.75473454]\n",
      " [ 0.55116656  1.6615628 ]\n",
      " [ 0.58933599 -0.39597992]\n",
      " [ 0.58933599  1.42863343]\n",
      " [ 0.62750542 -1.48298362]\n",
      " [ 0.62750542  1.81684904]\n",
      " [ 0.62750542 -0.55126616]\n",
      " [ 0.62750542  0.92395314]\n",
      " [ 0.66567484 -1.09476801]\n",
      " [ 0.66567484  1.54509812]\n",
      " [ 0.66567484 -1.28887582]\n",
      " [ 0.66567484  1.46745499]\n",
      " [ 0.66567484 -1.17241113]\n",
      " [ 0.66567484  1.00159627]\n",
      " [ 0.66567484 -1.32769738]\n",
      " [ 0.66567484  1.50627656]\n",
      " [ 0.66567484 -1.91002079]\n",
      " [ 0.66567484  1.07923939]\n",
      " [ 0.66567484 -1.91002079]\n",
      " [ 0.66567484  0.88513158]\n",
      " [ 0.70384427 -0.59008772]\n",
      " [ 0.70384427  1.27334719]\n",
      " [ 0.78018313 -1.75473454]\n",
      " [ 0.78018313  1.6615628 ]\n",
      " [ 0.93286085 -0.93948177]\n",
      " [ 0.93286085  0.96277471]\n",
      " [ 0.97103028 -1.17241113]\n",
      " [ 0.97103028  1.73920592]\n",
      " [ 1.00919971 -0.90066021]\n",
      " [ 1.00919971  0.49691598]\n",
      " [ 1.00919971 -1.44416206]\n",
      " [ 1.00919971  0.96277471]\n",
      " [ 1.00919971 -1.56062674]\n",
      " [ 1.00919971  1.62274124]\n",
      " [ 1.04736914 -1.44416206]\n",
      " [ 1.04736914  1.38981187]\n",
      " [ 1.04736914 -1.36651894]\n",
      " [ 1.04736914  0.72984534]\n",
      " [ 1.23821628 -1.4053405 ]\n",
      " [ 1.23821628  1.54509812]\n",
      " [ 1.390894   -0.7065524 ]\n",
      " [ 1.390894    1.38981187]\n",
      " [ 1.42906343 -1.36651894]\n",
      " [ 1.42906343  1.46745499]\n",
      " [ 1.46723286 -0.43480148]\n",
      " [ 1.46723286  1.81684904]\n",
      " [ 1.54357172 -1.01712489]\n",
      " [ 1.54357172  0.69102378]\n",
      " [ 1.61991057 -1.28887582]\n",
      " [ 1.61991057  1.35099031]\n",
      " [ 1.61991057 -1.05594645]\n",
      " [ 1.61991057  0.72984534]\n",
      " [ 2.00160487 -1.63826986]\n",
      " [ 2.00160487  1.58391968]\n",
      " [ 2.26879087 -1.32769738]\n",
      " [ 2.26879087  1.11806095]\n",
      " [ 2.49780745 -0.86183865]\n",
      " [ 2.49780745  0.92395314]\n",
      " [ 2.91767117 -1.25005425]\n",
      " [ 2.91767117  1.27334719]]\n"
     ]
    }
   ],
   "source": [
    "from sklearn.preprocessing import StandardScaler\n",
    "scaler=StandardScaler()\n",
    "x=scaler.fit_transform(x)  # standardize the data\n",
    "print(x)\n"
   ]
  },
  {
   "cell_type": "code",
   "execution_count": 17,
   "id": "f016acf7",
   "metadata": {},
   "outputs": [
    {
     "name": "stderr",
     "output_type": "stream",
     "text": [
      "C:\\Users\\pc\\anaconda3\\lib\\site-packages\\sklearn\\cluster\\_kmeans.py:1334: UserWarning: KMeans is known to have a memory leak on Windows with MKL, when there are less chunks than available threads. You can avoid it by setting the environment variable OMP_NUM_THREADS=1.\n",
      "  warnings.warn(\n",
      "C:\\Users\\pc\\anaconda3\\lib\\site-packages\\sklearn\\cluster\\_kmeans.py:1334: UserWarning: KMeans is known to have a memory leak on Windows with MKL, when there are less chunks than available threads. You can avoid it by setting the environment variable OMP_NUM_THREADS=1.\n",
      "  warnings.warn(\n",
      "C:\\Users\\pc\\anaconda3\\lib\\site-packages\\sklearn\\cluster\\_kmeans.py:1334: UserWarning: KMeans is known to have a memory leak on Windows with MKL, when there are less chunks than available threads. You can avoid it by setting the environment variable OMP_NUM_THREADS=1.\n",
      "  warnings.warn(\n",
      "C:\\Users\\pc\\anaconda3\\lib\\site-packages\\sklearn\\cluster\\_kmeans.py:1334: UserWarning: KMeans is known to have a memory leak on Windows with MKL, when there are less chunks than available threads. You can avoid it by setting the environment variable OMP_NUM_THREADS=1.\n",
      "  warnings.warn(\n",
      "C:\\Users\\pc\\anaconda3\\lib\\site-packages\\sklearn\\cluster\\_kmeans.py:1334: UserWarning: KMeans is known to have a memory leak on Windows with MKL, when there are less chunks than available threads. You can avoid it by setting the environment variable OMP_NUM_THREADS=1.\n",
      "  warnings.warn(\n",
      "C:\\Users\\pc\\anaconda3\\lib\\site-packages\\sklearn\\cluster\\_kmeans.py:1334: UserWarning: KMeans is known to have a memory leak on Windows with MKL, when there are less chunks than available threads. You can avoid it by setting the environment variable OMP_NUM_THREADS=1.\n",
      "  warnings.warn(\n",
      "C:\\Users\\pc\\anaconda3\\lib\\site-packages\\sklearn\\cluster\\_kmeans.py:1334: UserWarning: KMeans is known to have a memory leak on Windows with MKL, when there are less chunks than available threads. You can avoid it by setting the environment variable OMP_NUM_THREADS=1.\n",
      "  warnings.warn(\n",
      "C:\\Users\\pc\\anaconda3\\lib\\site-packages\\sklearn\\cluster\\_kmeans.py:1334: UserWarning: KMeans is known to have a memory leak on Windows with MKL, when there are less chunks than available threads. You can avoid it by setting the environment variable OMP_NUM_THREADS=1.\n",
      "  warnings.warn(\n",
      "C:\\Users\\pc\\anaconda3\\lib\\site-packages\\sklearn\\cluster\\_kmeans.py:1334: UserWarning: KMeans is known to have a memory leak on Windows with MKL, when there are less chunks than available threads. You can avoid it by setting the environment variable OMP_NUM_THREADS=1.\n",
      "  warnings.warn(\n",
      "C:\\Users\\pc\\anaconda3\\lib\\site-packages\\sklearn\\cluster\\_kmeans.py:1334: UserWarning: KMeans is known to have a memory leak on Windows with MKL, when there are less chunks than available threads. You can avoid it by setting the environment variable OMP_NUM_THREADS=1.\n",
      "  warnings.warn(\n"
     ]
    },
    {
     "data": {
      "text/plain": [
       "[399.99999999999994,\n",
       " 270.70426664306717,\n",
       " 157.70400815035947,\n",
       " 108.92131661364357,\n",
       " 65.56840815571681,\n",
       " 55.057348270386,\n",
       " 44.91118554999014,\n",
       " 37.7364034625416,\n",
       " 32.37525368158286,\n",
       " 29.090568897369717]"
      ]
     },
     "execution_count": 17,
     "metadata": {},
     "output_type": "execute_result"
    }
   ],
   "source": [
    "from sklearn.cluster import KMeans\n",
    "# Elbow method to find the optimal number of clusters\n",
    "wcss=[]\n",
    "for i in range(1,11):\n",
    "    kmeans=KMeans(n_clusters=i,random_state=42)\n",
    "    kmeans.fit(x)\n",
    "    wcss.append(kmeans.inertia_)\n",
    "wcss"
   ]
  },
  {
   "cell_type": "code",
   "execution_count": 18,
   "id": "7feb3da7",
   "metadata": {},
   "outputs": [
    {
     "data": {
      "text/plain": [
       "Text(0, 0.5, 'WCSS')"
      ]
     },
     "execution_count": 18,
     "metadata": {},
     "output_type": "execute_result"
    },
    {
     "data": {
      "image/png": "[encoded data removed]",
      "text/plain": [
       "<Figure size 432x288 with 1 Axes>"
      ]
     },
     "metadata": {
      "needs_background": "light"
     },
     "output_type": "display_data"
    }
   ],
   "source": [
    "plt.plot(range(1,11),wcss)\n",
    "plt.title('Elbow Method')\n",
    "plt.xlabel('Number of clusters')\n",
    "plt.ylabel('WCSS')"
   ]
  },
  {
   "cell_type": "markdown",
   "id": "77e81989",
   "metadata": {},
   "source": [
    "#### The optimal number of cluster is 5."
   ]
  },
  {
   "cell_type": "code",
   "execution_count": 19,
   "id": "099dd879",
   "metadata": {},
   "outputs": [
    {
     "name": "stderr",
     "output_type": "stream",
     "text": [
      "C:\\Users\\pc\\anaconda3\\lib\\site-packages\\sklearn\\cluster\\_kmeans.py:1334: UserWarning: KMeans is known to have a memory leak on Windows with MKL, when there are less chunks than available threads. You can avoid it by setting the environment variable OMP_NUM_THREADS=1.\n",
      "  warnings.warn(\n"
     ]
    },
    {
     "data": {
      "text/plain": [
       "array([2, 3, 2, 3, 2, 3, 2, 3, 2, 3, 2, 3, 2, 3, 2, 3, 2, 3, 2, 3, 2, 3,\n",
       "       2, 3, 2, 3, 2, 3, 2, 3, 2, 3, 2, 3, 2, 3, 2, 3, 2, 3, 2, 3, 2, 0,\n",
       "       2, 3, 0, 0, 0, 0, 0, 0, 0, 0, 0, 0, 0, 0, 0, 0, 0, 0, 0, 0, 0, 0,\n",
       "       0, 0, 0, 0, 0, 0, 0, 0, 0, 0, 0, 0, 0, 0, 0, 0, 0, 0, 0, 0, 0, 0,\n",
       "       0, 0, 0, 0, 0, 0, 0, 0, 0, 0, 0, 0, 0, 0, 0, 0, 0, 0, 0, 0, 0, 0,\n",
       "       0, 0, 0, 0, 0, 0, 0, 0, 0, 0, 0, 0, 0, 4, 1, 4, 0, 4, 1, 4, 1, 4,\n",
       "       0, 4, 1, 4, 1, 4, 1, 4, 1, 4, 0, 4, 1, 4, 1, 4, 1, 4, 1, 4, 1, 4,\n",
       "       1, 4, 1, 4, 1, 4, 1, 4, 1, 4, 1, 4, 1, 4, 1, 4, 1, 4, 1, 4, 1, 4,\n",
       "       1, 4, 1, 4, 1, 4, 1, 4, 1, 4, 1, 4, 1, 4, 1, 4, 1, 4, 1, 4, 1, 4,\n",
       "       1, 4])"
      ]
     },
     "execution_count": 19,
     "metadata": {},
     "output_type": "execute_result"
    }
   ],
   "source": [
    "kmeans=KMeans(n_clusters=5,random_state=42)\n",
    "y=kmeans.fit_predict(x)\n",
    "y"
   ]
  },
  {
   "cell_type": "code",
   "execution_count": 26,
   "id": "c782b48d",
   "metadata": {},
   "outputs": [
    {
     "name": "stdout",
     "output_type": "stream",
     "text": [
      "   Gender  Age  Annual Income (k$)  Spending Score (1-100)  Cluster\n",
      "0    Male   19                  15                      39        2\n",
      "1    Male   21                  15                      81        3\n",
      "2  Female   20                  16                       6        2\n",
      "3  Female   23                  16                      77        3\n",
      "4  Female   31                  17                      40        2\n"
     ]
    }
   ],
   "source": [
    "df1 = df.copy() # making a copy of original data\n",
    "df1['Cluster'] = y # appending the cluster column\n",
    "print(df1.head(5))"
   ]
  },
  {
   "cell_type": "code",
   "execution_count": 31,
   "id": "f808576e",
   "metadata": {},
   "outputs": [
    {
     "data": {
      "image/png": "[encoded data removed]",
      "text/plain": [
       "<Figure size 576x360 with 1 Axes>"
      ]
     },
     "metadata": {
      "needs_background": "light"
     },
     "output_type": "display_data"
    }
   ],
   "source": [
    "plt.figure(figsize=(8,5))\n",
    "plt.title('KMeans Cluster Diagram : Scatterplot', fontsize=14)\n",
    "sns.scatterplot(data=df1, x='Annual Income (k$)', y='Spending Score (1-100)', hue='Cluster',palette=\"Set2\")\n",
    "plt.legend(bbox_to_anchor=(1.02, 1), loc='best', borderaxespad=0)\n",
    "plt.show()"
   ]
  },
  {
   "cell_type": "code",
   "execution_count": 32,
   "id": "ba0bff2e",
   "metadata": {},
   "outputs": [
    {
     "data": {
      "text/plain": [
       "array([[0.        , 0.3877551 ],\n",
       "       [0.        , 0.81632653],\n",
       "       [0.00819672, 0.05102041],\n",
       "       [0.00819672, 0.7755102 ],\n",
       "       [0.01639344, 0.39795918],\n",
       "       [0.01639344, 0.76530612],\n",
       "       [0.02459016, 0.05102041],\n",
       "       [0.02459016, 0.94897959],\n",
       "       [0.03278689, 0.02040816],\n",
       "       [0.03278689, 0.7244898 ],\n",
       "       [0.03278689, 0.13265306],\n",
       "       [0.03278689, 1.        ],\n",
       "       [0.04098361, 0.14285714],\n",
       "       [0.04098361, 0.7755102 ],\n",
       "       [0.04098361, 0.12244898],\n",
       "       [0.04098361, 0.79591837],\n",
       "       [0.04918033, 0.34693878],\n",
       "       [0.04918033, 0.66326531],\n",
       "       [0.06557377, 0.28571429],\n",
       "       [0.06557377, 0.98979592],\n",
       "       [0.07377049, 0.34693878],\n",
       "       [0.07377049, 0.73469388],\n",
       "       [0.08196721, 0.04081633],\n",
       "       [0.08196721, 0.73469388],\n",
       "       [0.10655738, 0.13265306],\n",
       "       [0.10655738, 0.82653061],\n",
       "       [0.10655738, 0.31632653],\n",
       "       [0.10655738, 0.6122449 ],\n",
       "       [0.1147541 , 0.30612245],\n",
       "       [0.1147541 , 0.87755102],\n",
       "       [0.12295082, 0.03061224],\n",
       "       [0.12295082, 0.73469388],\n",
       "       [0.14754098, 0.03061224],\n",
       "       [0.14754098, 0.92857143],\n",
       "       [0.14754098, 0.13265306],\n",
       "       [0.14754098, 0.81632653],\n",
       "       [0.1557377 , 0.16326531],\n",
       "       [0.1557377 , 0.73469388],\n",
       "       [0.18032787, 0.25510204],\n",
       "       [0.18032787, 0.75510204],\n",
       "       [0.18852459, 0.34693878],\n",
       "       [0.18852459, 0.92857143],\n",
       "       [0.19672131, 0.35714286],\n",
       "       [0.19672131, 0.6122449 ],\n",
       "       [0.19672131, 0.2755102 ],\n",
       "       [0.19672131, 0.65306122],\n",
       "       [0.20491803, 0.55102041],\n",
       "       [0.20491803, 0.46938776],\n",
       "       [0.20491803, 0.41836735],\n",
       "       [0.20491803, 0.41836735],\n",
       "       [0.22131148, 0.52040816],\n",
       "       [0.22131148, 0.60204082],\n",
       "       [0.2295082 , 0.54081633],\n",
       "       [0.2295082 , 0.60204082],\n",
       "       [0.2295082 , 0.44897959],\n",
       "       [0.2295082 , 0.40816327],\n",
       "       [0.23770492, 0.5       ],\n",
       "       [0.23770492, 0.45918367],\n",
       "       [0.25409836, 0.51020408],\n",
       "       [0.25409836, 0.45918367],\n",
       "       [0.25409836, 0.56122449],\n",
       "       [0.25409836, 0.55102041],\n",
       "       [0.26229508, 0.52040816],\n",
       "       [0.26229508, 0.59183673],\n",
       "       [0.2704918 , 0.51020408],\n",
       "       [0.2704918 , 0.59183673],\n",
       "       [0.2704918 , 0.5       ],\n",
       "       [0.2704918 , 0.47959184],\n",
       "       [0.2704918 , 0.59183673],\n",
       "       [0.2704918 , 0.46938776],\n",
       "       [0.27868852, 0.55102041],\n",
       "       [0.27868852, 0.41836735],\n",
       "       [0.28688525, 0.48979592],\n",
       "       [0.28688525, 0.56122449],\n",
       "       [0.31967213, 0.46938776],\n",
       "       [0.31967213, 0.54081633],\n",
       "       [0.31967213, 0.53061224],\n",
       "       [0.31967213, 0.47959184],\n",
       "       [0.31967213, 0.52040816],\n",
       "       [0.31967213, 0.41836735],\n",
       "       [0.31967213, 0.51020408],\n",
       "       [0.31967213, 0.55102041],\n",
       "       [0.31967213, 0.40816327],\n",
       "       [0.31967213, 0.43877551],\n",
       "       [0.31967213, 0.57142857],\n",
       "       [0.31967213, 0.45918367],\n",
       "       [0.3442623 , 0.58163265],\n",
       "       [0.3442623 , 0.55102041],\n",
       "       [0.35245902, 0.60204082],\n",
       "       [0.35245902, 0.45918367],\n",
       "       [0.36065574, 0.55102041],\n",
       "       [0.36065574, 0.40816327],\n",
       "       [0.36885246, 0.48979592],\n",
       "       [0.36885246, 0.39795918],\n",
       "       [0.36885246, 0.41836735],\n",
       "       [0.36885246, 0.52040816],\n",
       "       [0.36885246, 0.46938776],\n",
       "       [0.36885246, 0.5       ],\n",
       "       [0.37704918, 0.41836735],\n",
       "       [0.37704918, 0.48979592],\n",
       "       [0.3852459 , 0.40816327],\n",
       "       [0.3852459 , 0.47959184],\n",
       "       [0.3852459 , 0.59183673],\n",
       "       [0.3852459 , 0.55102041],\n",
       "       [0.3852459 , 0.56122449],\n",
       "       [0.3852459 , 0.41836735],\n",
       "       [0.39344262, 0.5       ],\n",
       "       [0.39344262, 0.45918367],\n",
       "       [0.39344262, 0.42857143],\n",
       "       [0.39344262, 0.47959184],\n",
       "       [0.39344262, 0.52040816],\n",
       "       [0.39344262, 0.54081633],\n",
       "       [0.40163934, 0.41836735],\n",
       "       [0.40163934, 0.45918367],\n",
       "       [0.40983607, 0.47959184],\n",
       "       [0.40983607, 0.5       ],\n",
       "       [0.40983607, 0.42857143],\n",
       "       [0.40983607, 0.59183673],\n",
       "       [0.42622951, 0.42857143],\n",
       "       [0.42622951, 0.57142857],\n",
       "       [0.42622951, 0.56122449],\n",
       "       [0.42622951, 0.39795918],\n",
       "       [0.44262295, 0.58163265],\n",
       "       [0.44262295, 0.91836735],\n",
       "       [0.45081967, 0.28571429],\n",
       "       [0.45081967, 0.7755102 ],\n",
       "       [0.45901639, 0.34693878],\n",
       "       [0.45901639, 0.95918367],\n",
       "       [0.45901639, 0.10204082],\n",
       "       [0.45901639, 0.75510204],\n",
       "       [0.45901639, 0.08163265],\n",
       "       [0.45901639, 0.75510204],\n",
       "       [0.46721311, 0.33673469],\n",
       "       [0.46721311, 0.71428571],\n",
       "       [0.47540984, 0.04081633],\n",
       "       [0.47540984, 0.8877551 ],\n",
       "       [0.47540984, 0.06122449],\n",
       "       [0.47540984, 0.73469388],\n",
       "       [0.48360656, 0.09183673],\n",
       "       [0.48360656, 0.7244898 ],\n",
       "       [0.49180328, 0.04081633],\n",
       "       [0.49180328, 0.93877551],\n",
       "       [0.5       , 0.39795918],\n",
       "       [0.5       , 0.87755102],\n",
       "       [0.50819672, 0.1122449 ],\n",
       "       [0.50819672, 0.97959184],\n",
       "       [0.50819672, 0.35714286],\n",
       "       [0.50819672, 0.74489796],\n",
       "       [0.51639344, 0.21428571],\n",
       "       [0.51639344, 0.90816327],\n",
       "       [0.51639344, 0.16326531],\n",
       "       [0.51639344, 0.8877551 ],\n",
       "       [0.51639344, 0.19387755],\n",
       "       [0.51639344, 0.76530612],\n",
       "       [0.51639344, 0.15306122],\n",
       "       [0.51639344, 0.89795918],\n",
       "       [0.51639344, 0.        ],\n",
       "       [0.51639344, 0.78571429],\n",
       "       [0.51639344, 0.        ],\n",
       "       [0.51639344, 0.73469388],\n",
       "       [0.52459016, 0.34693878],\n",
       "       [0.52459016, 0.83673469],\n",
       "       [0.54098361, 0.04081633],\n",
       "       [0.54098361, 0.93877551],\n",
       "       [0.57377049, 0.25510204],\n",
       "       [0.57377049, 0.75510204],\n",
       "       [0.58196721, 0.19387755],\n",
       "       [0.58196721, 0.95918367],\n",
       "       [0.59016393, 0.26530612],\n",
       "       [0.59016393, 0.63265306],\n",
       "       [0.59016393, 0.12244898],\n",
       "       [0.59016393, 0.75510204],\n",
       "       [0.59016393, 0.09183673],\n",
       "       [0.59016393, 0.92857143],\n",
       "       [0.59836066, 0.12244898],\n",
       "       [0.59836066, 0.86734694],\n",
       "       [0.59836066, 0.14285714],\n",
       "       [0.59836066, 0.69387755],\n",
       "       [0.63934426, 0.13265306],\n",
       "       [0.63934426, 0.90816327],\n",
       "       [0.67213115, 0.31632653],\n",
       "       [0.67213115, 0.86734694],\n",
       "       [0.68032787, 0.14285714],\n",
       "       [0.68032787, 0.8877551 ],\n",
       "       [0.68852459, 0.3877551 ],\n",
       "       [0.68852459, 0.97959184],\n",
       "       [0.70491803, 0.23469388],\n",
       "       [0.70491803, 0.68367347],\n",
       "       [0.72131148, 0.16326531],\n",
       "       [0.72131148, 0.85714286],\n",
       "       [0.72131148, 0.2244898 ],\n",
       "       [0.72131148, 0.69387755],\n",
       "       [0.80327869, 0.07142857],\n",
       "       [0.80327869, 0.91836735],\n",
       "       [0.86065574, 0.15306122],\n",
       "       [0.86065574, 0.79591837],\n",
       "       [0.90983607, 0.2755102 ],\n",
       "       [0.90983607, 0.74489796],\n",
       "       [1.        , 0.17346939],\n",
       "       [1.        , 0.83673469]])"
      ]
     },
     "execution_count": 32,
     "metadata": {},
     "output_type": "execute_result"
    }
   ],
   "source": [
    "from sklearn.preprocessing import MinMaxScaler\n",
    "minmax=MinMaxScaler() # for normalization\n",
    "x=minmax.fit_transform(x)\n",
    "x"
   ]
  },
  {
   "cell_type": "code",
   "execution_count": 35,
   "id": "4a655030",
   "metadata": {},
   "outputs": [
    {
     "data": {
      "image/png": "[encoded data removed]",
      "text/plain": [
       "<Figure size 1152x432 with 1 Axes>"
      ]
     },
     "metadata": {
      "needs_background": "light"
     },
     "output_type": "display_data"
    }
   ],
   "source": [
    "import scipy.cluster.hierarchy as shc\n",
    "plt.figure(figsize=(16,6))\n",
    "dendrogram = shc.dendrogram(shc.linkage(x, method = 'ward'))\n",
    "plt.title('Dendrogram', fontsize=20)\n",
    "plt.xlabel('Customers', fontsize=18)\n",
    "plt.ylabel('Euclidean distances', fontsize=18)\n",
    "plt.show()"
   ]
  },
  {
   "cell_type": "code",
   "execution_count": 37,
   "id": "875896d7",
   "metadata": {},
   "outputs": [
    {
     "data": {
      "image/png": "[encoded data removed]",
      "text/plain": [
       "<Figure size 1152x432 with 1 Axes>"
      ]
     },
     "metadata": {
      "needs_background": "light"
     },
     "output_type": "display_data"
    }
   ],
   "source": [
    "# Draw the threshold level to identify the ideal number of clusters\n",
    "\n",
    "plt.figure(figsize=(16,6))\n",
    "dendrogram = shc.dendrogram(shc.linkage(x, method = 'ward'))\n",
    "plt.axhline(y = 1, color = 'g', linestyle = 'dashdot')\n",
    "\n",
    "plt.title('Dendrogram', fontsize=20)\n",
    "plt.xlabel('Customers', fontsize=18)\n",
    "plt.ylabel('Euclidean distances', fontsize=18)\n",
    "plt.show()"
   ]
  },
  {
   "cell_type": "markdown",
   "id": "80068031",
   "metadata": {},
   "source": [
    "###### The threshold line intersects 5 vertical lines, hence we can conclude that the number of clusters we can have as 5."
   ]
  },
  {
   "cell_type": "code",
   "execution_count": 38,
   "id": "6ee7989c",
   "metadata": {},
   "outputs": [
    {
     "data": {
      "text/plain": [
       "array([4, 3, 4, 3, 4, 3, 4, 3, 4, 3, 4, 3, 4, 3, 4, 3, 4, 3, 4, 3, 4, 3,\n",
       "       4, 3, 4, 3, 4, 1, 4, 3, 4, 3, 4, 3, 4, 3, 4, 3, 4, 3, 4, 3, 4, 1,\n",
       "       4, 1, 1, 1, 1, 1, 1, 1, 1, 1, 1, 1, 1, 1, 1, 1, 1, 1, 1, 1, 1, 1,\n",
       "       1, 1, 1, 1, 1, 1, 1, 1, 1, 1, 1, 1, 1, 1, 1, 1, 1, 1, 1, 1, 1, 1,\n",
       "       1, 1, 1, 1, 1, 1, 1, 1, 1, 1, 1, 1, 1, 1, 1, 1, 1, 1, 1, 1, 1, 1,\n",
       "       1, 1, 1, 1, 1, 1, 1, 1, 1, 1, 1, 1, 1, 0, 1, 0, 1, 0, 2, 0, 2, 0,\n",
       "       1, 0, 2, 0, 2, 0, 2, 0, 2, 0, 1, 0, 2, 0, 1, 0, 2, 0, 2, 0, 2, 0,\n",
       "       2, 0, 2, 0, 2, 0, 1, 0, 2, 0, 2, 0, 2, 0, 2, 0, 2, 0, 2, 0, 2, 0,\n",
       "       2, 0, 2, 0, 2, 0, 2, 0, 2, 0, 2, 0, 2, 0, 2, 0, 2, 0, 2, 0, 2, 0,\n",
       "       2, 0], dtype=int64)"
      ]
     },
     "execution_count": 38,
     "metadata": {},
     "output_type": "execute_result"
    }
   ],
   "source": [
    "from sklearn.cluster import AgglomerativeClustering\n",
    "clusters = AgglomerativeClustering(n_clusters=5, affinity='euclidean', linkage='ward')\n",
    "y = clusters.fit_predict(x)\n",
    "y"
   ]
  },
  {
   "cell_type": "code",
   "execution_count": 40,
   "id": "61c2f13d",
   "metadata": {},
   "outputs": [
    {
     "name": "stdout",
     "output_type": "stream",
     "text": [
      "   Gender  Age  Annual Income (k$)  Spending Score (1-100)  Cluster\n",
      "0    Male   19                  15                      39        4\n",
      "1    Male   21                  15                      81        3\n",
      "2  Female   20                  16                       6        4\n",
      "3  Female   23                  16                      77        3\n",
      "4  Female   31                  17                      40        4\n"
     ]
    }
   ],
   "source": [
    "df2 = df.copy()   # making a copy of original data\n",
    "df2['Cluster'] = y  # appending the cluster column\n",
    "print(df2.head(5))"
   ]
  },
  {
   "cell_type": "code",
   "execution_count": 41,
   "id": "07233aff",
   "metadata": {},
   "outputs": [
    {
     "data": {
      "image/png": "[encoded data removed]",
      "text/plain": [
       "<Figure size 576x360 with 1 Axes>"
      ]
     },
     "metadata": {
      "needs_background": "light"
     },
     "output_type": "display_data"
    }
   ],
   "source": [
    "plt.figure(figsize=(8,5))\n",
    "plt.title('Hierarchial Clusters : Scatterplot', fontsize=14)\n",
    "sns.scatterplot(data=df2, x='Annual Income (k$)', y='Spending Score (1-100)', hue='Cluster', palette=\"Set2\")\n",
    "plt.legend(bbox_to_anchor=(1.02, 1), loc='best', borderaxespad=0)\n",
    "plt.show()"
   ]
  },
  {
   "cell_type": "code",
   "execution_count": 47,
   "id": "097e0c18",
   "metadata": {},
   "outputs": [
    {
     "data": {
      "image/png": "[encoded data removed]",
      "text/plain": [
       "<Figure size 432x288 with 1 Axes>"
      ]
     },
     "metadata": {
      "needs_background": "light"
     },
     "output_type": "display_data"
    }
   ],
   "source": [
    "plt.title('Hierarchial Clustering : Records by Cluster (in Units)', fontsize=16)\n",
    "my_ord = [0,1,2,3,4]\n",
    "my_col = ('#00C78C', '#D2B48C', '#FF6347', '#4682B4','#FAFAD2')\n",
    "ax = sns.countplot(y=\"Cluster\", data=df2, palette=my_col, order=my_ord, alpha=0.3)\n",
    "for p in ax.patches:\n",
    "    ax.annotate('{:.0f}'.format(p.get_width()),  (p.get_x() + p.get_width() + 0.05, p.get_y()+0.5))\n",
    "                \n",
    "plt.show()"
   ]
  },
  {
   "cell_type": "code",
   "execution_count": 50,
   "id": "e409b8e7",
   "metadata": {},
   "outputs": [
    {
     "data": {
      "image/png": "[encoded data removed]",
      "text/plain": [
       "<Figure size 432x288 with 1 Axes>"
      ]
     },
     "metadata": {
      "needs_background": "light"
     },
     "output_type": "display_data"
    }
   ],
   "source": [
    "plt.title('KMeans Clustering : Records by Cluster (in Units)', fontsize=16)\n",
    "my_ord = [0,1,2,3,4]\n",
    "my_pal = ('#00FFFF','#40E0D0', '#c7e9b4', '#D8BFD8', '#EEE8AA')\n",
    "ax = sns.countplot(y=\"Cluster\", data=df1,  palette=my_pal, order=my_ord, alpha=0.3)\n",
    "for p in ax.patches:\n",
    "    ax.annotate('{:.0f}'.format(p.get_width()),  (p.get_x() + p.get_width() + 0.05, p.get_y()+0.5))\n",
    "plt.show()"
   ]
  },
  {
   "cell_type": "markdown",
   "id": "a9a5db13",
   "metadata": {},
   "source": [
    "##### Both the KMeans and hierarchical models' clusters show that low-income customers are divided into two odd segments: one that spends little and the other that spends a lot. Similar to this, customers with high incomes are likewise divided into two larger sectors, one with low spending and the other with high spending. On the other hand, customers with middle-class incomes tend to be divided into a group that makes moderate purchases, neither high nor low."
   ]
  },
  {
   "cell_type": "code",
   "execution_count": null,
   "id": "b0a64881",
   "metadata": {},
   "outputs": [],
   "source": []
  }
 ],
 "metadata": {
  "kernelspec": {
   "display_name": "Python 3",
   "language": "python",
   "name": "python3"
  },
  "language_info": {
   "codemirror_mode": {
    "name": "ipython",
    "version": 3
   },
   "file_extension": ".py",
   "mimetype": "text/x-python",
   "name": "python",
   "nbconvert_exporter": "python",
   "pygments_lexer": "ipython3",
   "version": "3.8.8"
  }
 },
 "nbformat": 4,
 "nbformat_minor": 5
}
